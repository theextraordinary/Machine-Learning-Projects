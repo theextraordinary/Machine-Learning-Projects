{
 "cells": [
  {
   "cell_type": "code",
   "execution_count": 1,
   "id": "66561407",
   "metadata": {},
   "outputs": [],
   "source": [
    "import numpy as np\n",
    "import pandas as pd\n",
    "import matplotlib.pyplot as plt\n",
    "import seaborn\n",
    "import tensorflow as tf"
   ]
  },
  {
   "cell_type": "code",
   "execution_count": 2,
   "id": "2626c2bd",
   "metadata": {},
   "outputs": [],
   "source": [
    "train_data=pd.read_csv('train.csv')"
   ]
  },
  {
   "cell_type": "code",
   "execution_count": 4,
   "id": "7deed219",
   "metadata": {},
   "outputs": [],
   "source": [
    "def NullClearner(value):\n",
    "\tif(isinstance(value, pd.Series) and (value.dtype in ['float64','int64'])):\n",
    "\t\tvalue.fillna(value.mean(),inplace=True)\n",
    "\t\treturn value\n",
    "\telif(isinstance(value, pd.Series)):\n",
    "\t\tvalue.fillna(value.mode()[0],inplace=True)\n",
    "\t\treturn value\n",
    "\telse:return value\n",
    "def handlemissing(X):\n",
    "    x=X.columns.to_list()\n",
    "    for i in x:\n",
    "        X[i]=NullClearner(X[i])\n",
    "    return X"
   ]
  },
  {
   "cell_type": "code",
   "execution_count": 5,
   "id": "84b8b086",
   "metadata": {},
   "outputs": [],
   "source": [
    "train=train_data.drop('Property_ID',axis=1)"
   ]
  },
  {
   "cell_type": "code",
   "execution_count": 6,
   "id": "3f28df8e",
   "metadata": {},
   "outputs": [],
   "source": [
    "train=handlemissing(train)"
   ]
  },
  {
   "cell_type": "code",
   "execution_count": 7,
   "id": "f26d78a5",
   "metadata": {},
   "outputs": [
    {
     "name": "stdout",
     "output_type": "stream",
     "text": [
      "<class 'pandas.core.frame.DataFrame'>\n",
      "RangeIndex: 39499 entries, 0 to 39498\n",
      "Data columns (total 14 columns):\n",
      " #   Column                  Non-Null Count  Dtype  \n",
      "---  ------                  --------------  -----  \n",
      " 0   Property_Type           39499 non-null  object \n",
      " 1   Property_Area           39499 non-null  int64  \n",
      " 2   Number_of_Windows       39499 non-null  float64\n",
      " 3   Number_of_Doors         39499 non-null  int64  \n",
      " 4   Furnishing              39499 non-null  object \n",
      " 5   Frequency_of_Powercuts  39499 non-null  float64\n",
      " 6   Power_Backup            39499 non-null  object \n",
      " 7   Water_Supply            39499 non-null  object \n",
      " 8   Traffic_Density_Score   39499 non-null  float64\n",
      " 9   Crime_Rate              39499 non-null  object \n",
      " 10  Dust_and_Noise          39499 non-null  object \n",
      " 11  Air_Quality_Index       39499 non-null  float64\n",
      " 12  Neighborhood_Review     39499 non-null  float64\n",
      " 13  Habitability_score      39499 non-null  float64\n",
      "dtypes: float64(6), int64(2), object(6)\n",
      "memory usage: 4.2+ MB\n"
     ]
    }
   ],
   "source": [
    "train.info()"
   ]
  },
  {
   "cell_type": "code",
   "execution_count": 67,
   "id": "b03b5798",
   "metadata": {},
   "outputs": [],
   "source": [
    "X=train.drop('Habitability_score',axis=1)\n",
    "Y=train['Habitability_score']"
   ]
  },
  {
   "cell_type": "code",
   "execution_count": 68,
   "id": "417db074",
   "metadata": {},
   "outputs": [],
   "source": [
    "X=pd.get_dummies(X)"
   ]
  },
  {
   "cell_type": "code",
   "execution_count": 69,
   "id": "33496bb1",
   "metadata": {},
   "outputs": [
    {
     "data": {
      "text/html": [
       "<div>\n",
       "<style scoped>\n",
       "    .dataframe tbody tr th:only-of-type {\n",
       "        vertical-align: middle;\n",
       "    }\n",
       "\n",
       "    .dataframe tbody tr th {\n",
       "        vertical-align: top;\n",
       "    }\n",
       "\n",
       "    .dataframe thead th {\n",
       "        text-align: right;\n",
       "    }\n",
       "</style>\n",
       "<table border=\"1\" class=\"dataframe\">\n",
       "  <thead>\n",
       "    <tr style=\"text-align: right;\">\n",
       "      <th></th>\n",
       "      <th>Property_Area</th>\n",
       "      <th>Number_of_Windows</th>\n",
       "      <th>Number_of_Doors</th>\n",
       "      <th>Frequency_of_Powercuts</th>\n",
       "      <th>Traffic_Density_Score</th>\n",
       "      <th>Air_Quality_Index</th>\n",
       "      <th>Neighborhood_Review</th>\n",
       "      <th>Property_Type_#R%$G&amp;867</th>\n",
       "      <th>Property_Type_Apartment</th>\n",
       "      <th>Property_Type_Bungalow</th>\n",
       "      <th>...</th>\n",
       "      <th>Water_Supply_Once in a day - Evening</th>\n",
       "      <th>Water_Supply_Once in a day - Morning</th>\n",
       "      <th>Water_Supply_Once in two days</th>\n",
       "      <th>Crime_Rate_Slightly above average</th>\n",
       "      <th>Crime_Rate_Slightly below average</th>\n",
       "      <th>Crime_Rate_Well above average</th>\n",
       "      <th>Crime_Rate_Well below average</th>\n",
       "      <th>Dust_and_Noise_High</th>\n",
       "      <th>Dust_and_Noise_Low</th>\n",
       "      <th>Dust_and_Noise_Medium</th>\n",
       "    </tr>\n",
       "  </thead>\n",
       "  <tbody>\n",
       "    <tr>\n",
       "      <th>0</th>\n",
       "      <td>106</td>\n",
       "      <td>3.923768</td>\n",
       "      <td>1</td>\n",
       "      <td>0.0</td>\n",
       "      <td>5.89</td>\n",
       "      <td>90.0</td>\n",
       "      <td>3.86</td>\n",
       "      <td>0</td>\n",
       "      <td>1</td>\n",
       "      <td>0</td>\n",
       "      <td>...</td>\n",
       "      <td>0</td>\n",
       "      <td>1</td>\n",
       "      <td>0</td>\n",
       "      <td>0</td>\n",
       "      <td>1</td>\n",
       "      <td>0</td>\n",
       "      <td>0</td>\n",
       "      <td>0</td>\n",
       "      <td>0</td>\n",
       "      <td>1</td>\n",
       "    </tr>\n",
       "    <tr>\n",
       "      <th>1</th>\n",
       "      <td>733</td>\n",
       "      <td>2.000000</td>\n",
       "      <td>2</td>\n",
       "      <td>1.0</td>\n",
       "      <td>4.37</td>\n",
       "      <td>96.0</td>\n",
       "      <td>3.55</td>\n",
       "      <td>0</td>\n",
       "      <td>1</td>\n",
       "      <td>0</td>\n",
       "      <td>...</td>\n",
       "      <td>1</td>\n",
       "      <td>0</td>\n",
       "      <td>0</td>\n",
       "      <td>0</td>\n",
       "      <td>0</td>\n",
       "      <td>0</td>\n",
       "      <td>1</td>\n",
       "      <td>0</td>\n",
       "      <td>0</td>\n",
       "      <td>1</td>\n",
       "    </tr>\n",
       "    <tr>\n",
       "      <th>2</th>\n",
       "      <td>737</td>\n",
       "      <td>4.000000</td>\n",
       "      <td>2</td>\n",
       "      <td>0.0</td>\n",
       "      <td>7.45</td>\n",
       "      <td>121.0</td>\n",
       "      <td>3.81</td>\n",
       "      <td>0</td>\n",
       "      <td>1</td>\n",
       "      <td>0</td>\n",
       "      <td>...</td>\n",
       "      <td>0</td>\n",
       "      <td>1</td>\n",
       "      <td>0</td>\n",
       "      <td>0</td>\n",
       "      <td>1</td>\n",
       "      <td>0</td>\n",
       "      <td>0</td>\n",
       "      <td>0</td>\n",
       "      <td>0</td>\n",
       "      <td>1</td>\n",
       "    </tr>\n",
       "    <tr>\n",
       "      <th>3</th>\n",
       "      <td>900</td>\n",
       "      <td>3.000000</td>\n",
       "      <td>2</td>\n",
       "      <td>2.0</td>\n",
       "      <td>6.16</td>\n",
       "      <td>100.0</td>\n",
       "      <td>1.34</td>\n",
       "      <td>0</td>\n",
       "      <td>1</td>\n",
       "      <td>0</td>\n",
       "      <td>...</td>\n",
       "      <td>0</td>\n",
       "      <td>1</td>\n",
       "      <td>0</td>\n",
       "      <td>0</td>\n",
       "      <td>0</td>\n",
       "      <td>1</td>\n",
       "      <td>0</td>\n",
       "      <td>0</td>\n",
       "      <td>0</td>\n",
       "      <td>1</td>\n",
       "    </tr>\n",
       "    <tr>\n",
       "      <th>4</th>\n",
       "      <td>2238</td>\n",
       "      <td>14.000000</td>\n",
       "      <td>6</td>\n",
       "      <td>0.0</td>\n",
       "      <td>5.46</td>\n",
       "      <td>116.0</td>\n",
       "      <td>4.77</td>\n",
       "      <td>0</td>\n",
       "      <td>0</td>\n",
       "      <td>1</td>\n",
       "      <td>...</td>\n",
       "      <td>0</td>\n",
       "      <td>0</td>\n",
       "      <td>0</td>\n",
       "      <td>0</td>\n",
       "      <td>0</td>\n",
       "      <td>0</td>\n",
       "      <td>1</td>\n",
       "      <td>0</td>\n",
       "      <td>0</td>\n",
       "      <td>1</td>\n",
       "    </tr>\n",
       "  </tbody>\n",
       "</table>\n",
       "<p>5 rows × 31 columns</p>\n",
       "</div>"
      ],
      "text/plain": [
       "   Property_Area  Number_of_Windows  Number_of_Doors  Frequency_of_Powercuts  \\\n",
       "0            106           3.923768                1                     0.0   \n",
       "1            733           2.000000                2                     1.0   \n",
       "2            737           4.000000                2                     0.0   \n",
       "3            900           3.000000                2                     2.0   \n",
       "4           2238          14.000000                6                     0.0   \n",
       "\n",
       "   Traffic_Density_Score  Air_Quality_Index  Neighborhood_Review  \\\n",
       "0                   5.89               90.0                 3.86   \n",
       "1                   4.37               96.0                 3.55   \n",
       "2                   7.45              121.0                 3.81   \n",
       "3                   6.16              100.0                 1.34   \n",
       "4                   5.46              116.0                 4.77   \n",
       "\n",
       "   Property_Type_#R%$G&867  Property_Type_Apartment  Property_Type_Bungalow  \\\n",
       "0                        0                        1                       0   \n",
       "1                        0                        1                       0   \n",
       "2                        0                        1                       0   \n",
       "3                        0                        1                       0   \n",
       "4                        0                        0                       1   \n",
       "\n",
       "   ...  Water_Supply_Once in a day - Evening  \\\n",
       "0  ...                                     0   \n",
       "1  ...                                     1   \n",
       "2  ...                                     0   \n",
       "3  ...                                     0   \n",
       "4  ...                                     0   \n",
       "\n",
       "   Water_Supply_Once in a day - Morning  Water_Supply_Once in two days  \\\n",
       "0                                     1                              0   \n",
       "1                                     0                              0   \n",
       "2                                     1                              0   \n",
       "3                                     1                              0   \n",
       "4                                     0                              0   \n",
       "\n",
       "   Crime_Rate_Slightly above average  Crime_Rate_Slightly below average  \\\n",
       "0                                  0                                  1   \n",
       "1                                  0                                  0   \n",
       "2                                  0                                  1   \n",
       "3                                  0                                  0   \n",
       "4                                  0                                  0   \n",
       "\n",
       "   Crime_Rate_Well above average  Crime_Rate_Well below average  \\\n",
       "0                              0                              0   \n",
       "1                              0                              1   \n",
       "2                              0                              0   \n",
       "3                              1                              0   \n",
       "4                              0                              1   \n",
       "\n",
       "   Dust_and_Noise_High  Dust_and_Noise_Low  Dust_and_Noise_Medium  \n",
       "0                    0                   0                      1  \n",
       "1                    0                   0                      1  \n",
       "2                    0                   0                      1  \n",
       "3                    0                   0                      1  \n",
       "4                    0                   0                      1  \n",
       "\n",
       "[5 rows x 31 columns]"
      ]
     },
     "execution_count": 69,
     "metadata": {},
     "output_type": "execute_result"
    }
   ],
   "source": [
    "X.head()"
   ]
  },
  {
   "cell_type": "code",
   "execution_count": 70,
   "id": "661ee310",
   "metadata": {},
   "outputs": [],
   "source": [
    "from sklearn.preprocessing import scale"
   ]
  },
  {
   "cell_type": "code",
   "execution_count": 71,
   "id": "494f19b1",
   "metadata": {},
   "outputs": [],
   "source": [
    "X=scale(X)"
   ]
  },
  {
   "cell_type": "code",
   "execution_count": 72,
   "id": "8c85eed8",
   "metadata": {},
   "outputs": [
    {
     "data": {
      "text/plain": [
       "array([[-6.58239960e-01,  1.68597944e-16, -1.12833335e+00, ...,\n",
       "        -2.97517308e-01, -2.35289403e-01,  3.92982429e-01],\n",
       "       [-3.37238610e-01, -7.30356249e-01, -2.80838884e-01, ...,\n",
       "        -2.97517308e-01, -2.35289403e-01,  3.92982429e-01],\n",
       "       [-3.35190755e-01,  2.89413884e-02, -2.80838884e-01, ...,\n",
       "        -2.97517308e-01, -2.35289403e-01,  3.92982429e-01],\n",
       "       ...,\n",
       "       [ 1.22271531e+00,  7.88239026e-01,  3.10913898e+00, ...,\n",
       "        -2.97517308e-01, -2.35289403e-01,  3.92982429e-01],\n",
       "       [-6.43618653e-02, -3.50707430e-01, -1.12833335e+00, ...,\n",
       "        -2.97517308e-01, -2.35289403e-01,  3.92982429e-01],\n",
       "       [-8.33045286e-02, -7.30356249e-01,  1.41415005e+00, ...,\n",
       "         3.36114899e+00, -2.35289403e-01, -2.54464304e+00]])"
      ]
     },
     "execution_count": 72,
     "metadata": {},
     "output_type": "execute_result"
    }
   ],
   "source": [
    "X"
   ]
  },
  {
   "cell_type": "code",
   "execution_count": null,
   "id": "85eb7808",
   "metadata": {},
   "outputs": [],
   "source": [
    "X.shape"
   ]
  },
  {
   "cell_type": "code",
   "execution_count": 91,
   "id": "01eb2e3d",
   "metadata": {},
   "outputs": [],
   "source": [
    "def create_model(lr=0.01,act='relu'):  \n",
    "    hidd1=tf.keras.layers.Dense(units=128,input_shape=[31],activity_regularizer=tf.keras.regularizers.l2(1e-5),activation=act)\n",
    "    drop1=tf.keras.layers.Dropout(0.50)\n",
    "    hidd2=tf.keras.layers.Dense(units=128,activity_regularizer=tf.keras.regularizers.l2(1e-5),activation=act)\n",
    "    drop2=tf.keras.layers.Dropout(0.50)\n",
    "    out=tf.keras.layers.Dense(units=1,activation=tf.nn.relu)\n",
    "\n",
    "    model=tf.keras.Sequential([hidd1,drop1,hidd2,drop2,out])\n",
    "\n",
    "    model.compile(optimizer=tf.optimizers.Adam(lr=lr),loss='mean_squared_error',metrics=['mse', \"mape\"])\n",
    "    return model"
   ]
  },
  {
   "cell_type": "code",
   "execution_count": 45,
   "id": "73ecfd5d",
   "metadata": {},
   "outputs": [],
   "source": [
    "from sklearn.model_selection import train_test_split\n",
    "X_train,X_test,Y_train,Y_test=train_test_split(X,Y,test_size=0.2,random_state=42)"
   ]
  },
  {
   "cell_type": "code",
   "execution_count": 46,
   "id": "a63cc74b",
   "metadata": {},
   "outputs": [
    {
     "data": {
      "text/plain": [
       "((31599, 31), (7900, 31))"
      ]
     },
     "execution_count": 46,
     "metadata": {},
     "output_type": "execute_result"
    }
   ],
   "source": [
    "X_train.shape,X_test.shape"
   ]
  },
  {
   "cell_type": "code",
   "execution_count": 61,
   "id": "a55b7166",
   "metadata": {},
   "outputs": [
    {
     "name": "stdout",
     "output_type": "stream",
     "text": [
      "Epoch 1/20\n",
      "988/988 [==============================] - 3s 2ms/step - loss: 216.6790\n",
      "Epoch 2/20\n",
      "988/988 [==============================] - 2s 2ms/step - loss: 133.3533\n",
      "Epoch 3/20\n",
      "988/988 [==============================] - 2s 2ms/step - loss: 127.1914\n",
      "Epoch 4/20\n",
      "988/988 [==============================] - 2s 2ms/step - loss: 125.7159\n",
      "Epoch 5/20\n",
      "988/988 [==============================] - 2s 2ms/step - loss: 125.6664\n",
      "Epoch 6/20\n",
      "988/988 [==============================] - 2s 2ms/step - loss: 116.2884\n",
      "Epoch 7/20\n",
      "988/988 [==============================] - 2s 2ms/step - loss: 114.6740\n",
      "Epoch 8/20\n",
      "988/988 [==============================] - 2s 2ms/step - loss: 118.3242\n",
      "Epoch 9/20\n",
      "988/988 [==============================] - 2s 2ms/step - loss: 118.1092\n",
      "Epoch 10/20\n",
      "988/988 [==============================] - 2s 2ms/step - loss: 118.1790\n",
      "Epoch 11/20\n",
      "988/988 [==============================] - 2s 2ms/step - loss: 117.7014\n",
      "Epoch 12/20\n",
      "988/988 [==============================] - 2s 2ms/step - loss: 114.1511\n",
      "Epoch 13/20\n",
      "988/988 [==============================] - 2s 2ms/step - loss: 115.0315\n",
      "Epoch 14/20\n",
      "988/988 [==============================] - 2s 2ms/step - loss: 112.4297\n",
      "Epoch 15/20\n",
      "988/988 [==============================] - 2s 2ms/step - loss: 112.6783\n",
      "Epoch 16/20\n",
      "988/988 [==============================] - 2s 2ms/step - loss: 108.5658\n",
      "Epoch 17/20\n",
      "988/988 [==============================] - 2s 2ms/step - loss: 110.3792\n",
      "Epoch 18/20\n",
      "988/988 [==============================] - 2s 2ms/step - loss: 109.0097\n",
      "Epoch 19/20\n",
      "988/988 [==============================] - 2s 2ms/step - loss: 107.1276\n",
      "Epoch 20/20\n",
      "988/988 [==============================] - 2s 2ms/step - loss: 109.8659\n"
     ]
    },
    {
     "data": {
      "text/plain": [
       "<keras.callbacks.History at 0x1df474adac0>"
      ]
     },
     "execution_count": 61,
     "metadata": {},
     "output_type": "execute_result"
    }
   ],
   "source": [
    "model.fit(X_train,Y_train,epochs=20)"
   ]
  },
  {
   "cell_type": "code",
   "execution_count": 116,
   "id": "1e65349c",
   "metadata": {},
   "outputs": [],
   "source": [
    "from keras.wrappers.scikit_learn import KerasRegressor"
   ]
  },
  {
   "cell_type": "code",
   "execution_count": 125,
   "id": "aca68567",
   "metadata": {},
   "outputs": [
    {
     "name": "stderr",
     "output_type": "stream",
     "text": [
      "C:\\Users\\HP\\AppData\\Local\\Temp\\ipykernel_2528\\1445120202.py:1: DeprecationWarning: KerasRegressor is deprecated, use Sci-Keras (https://github.com/adriangb/scikeras) instead. See https://www.adriangb.com/scikeras/stable/migration.html for help migrating.\n",
      "  model = KerasRegressor(build_fn = create_model,verbose = 0)\n"
     ]
    }
   ],
   "source": [
    "model = KerasRegressor(build_fn = create_model,verbose = 0)"
   ]
  },
  {
   "cell_type": "code",
   "execution_count": 126,
   "id": "ebd1545b",
   "metadata": {},
   "outputs": [],
   "source": [
    "params = {'act': [\"relu\", \"tanh\"],\n",
    "          'batch_size': [16, 32, 64], \n",
    "          'epochs': [50, 100],\n",
    "          'lr': [0.01, 0.001, 0.0001]}"
   ]
  },
  {
   "cell_type": "code",
   "execution_count": 127,
   "id": "8a3bf63d",
   "metadata": {},
   "outputs": [],
   "source": [
    "from sklearn.model_selection import RandomizedSearchCV\n",
    "from sklearn.model_selection import KFold\n",
    "random_search = RandomizedSearchCV(model,\n",
    "                                   param_distributions = params,\n",
    "                                   cv = KFold(3))"
   ]
  },
  {
   "cell_type": "code",
   "execution_count": 128,
   "id": "6fce8467",
   "metadata": {},
   "outputs": [
    {
     "name": "stderr",
     "output_type": "stream",
     "text": [
      "C:\\Users\\HP\\anaconda3\\lib\\site-packages\\keras\\optimizers\\optimizer_v2\\adam.py:110: UserWarning: The `lr` argument is deprecated, use `learning_rate` instead.\n",
      "  super(Adam, self).__init__(name, **kwargs)\n"
     ]
    }
   ],
   "source": [
    "random_search_results = random_search.fit(X_train, Y_train)"
   ]
  },
  {
   "cell_type": "code",
   "execution_count": 129,
   "id": "81dfd146",
   "metadata": {},
   "outputs": [
    {
     "data": {
      "text/html": [
       "<style>#sk-container-id-2 {color: black;background-color: white;}#sk-container-id-2 pre{padding: 0;}#sk-container-id-2 div.sk-toggleable {background-color: white;}#sk-container-id-2 label.sk-toggleable__label {cursor: pointer;display: block;width: 100%;margin-bottom: 0;padding: 0.3em;box-sizing: border-box;text-align: center;}#sk-container-id-2 label.sk-toggleable__label-arrow:before {content: \"▸\";float: left;margin-right: 0.25em;color: #696969;}#sk-container-id-2 label.sk-toggleable__label-arrow:hover:before {color: black;}#sk-container-id-2 div.sk-estimator:hover label.sk-toggleable__label-arrow:before {color: black;}#sk-container-id-2 div.sk-toggleable__content {max-height: 0;max-width: 0;overflow: hidden;text-align: left;background-color: #f0f8ff;}#sk-container-id-2 div.sk-toggleable__content pre {margin: 0.2em;color: black;border-radius: 0.25em;background-color: #f0f8ff;}#sk-container-id-2 input.sk-toggleable__control:checked~div.sk-toggleable__content {max-height: 200px;max-width: 100%;overflow: auto;}#sk-container-id-2 input.sk-toggleable__control:checked~label.sk-toggleable__label-arrow:before {content: \"▾\";}#sk-container-id-2 div.sk-estimator input.sk-toggleable__control:checked~label.sk-toggleable__label {background-color: #d4ebff;}#sk-container-id-2 div.sk-label input.sk-toggleable__control:checked~label.sk-toggleable__label {background-color: #d4ebff;}#sk-container-id-2 input.sk-hidden--visually {border: 0;clip: rect(1px 1px 1px 1px);clip: rect(1px, 1px, 1px, 1px);height: 1px;margin: -1px;overflow: hidden;padding: 0;position: absolute;width: 1px;}#sk-container-id-2 div.sk-estimator {font-family: monospace;background-color: #f0f8ff;border: 1px dotted black;border-radius: 0.25em;box-sizing: border-box;margin-bottom: 0.5em;}#sk-container-id-2 div.sk-estimator:hover {background-color: #d4ebff;}#sk-container-id-2 div.sk-parallel-item::after {content: \"\";width: 100%;border-bottom: 1px solid gray;flex-grow: 1;}#sk-container-id-2 div.sk-label:hover label.sk-toggleable__label {background-color: #d4ebff;}#sk-container-id-2 div.sk-serial::before {content: \"\";position: absolute;border-left: 1px solid gray;box-sizing: border-box;top: 0;bottom: 0;left: 50%;z-index: 0;}#sk-container-id-2 div.sk-serial {display: flex;flex-direction: column;align-items: center;background-color: white;padding-right: 0.2em;padding-left: 0.2em;position: relative;}#sk-container-id-2 div.sk-item {position: relative;z-index: 1;}#sk-container-id-2 div.sk-parallel {display: flex;align-items: stretch;justify-content: center;background-color: white;position: relative;}#sk-container-id-2 div.sk-item::before, #sk-container-id-2 div.sk-parallel-item::before {content: \"\";position: absolute;border-left: 1px solid gray;box-sizing: border-box;top: 0;bottom: 0;left: 50%;z-index: -1;}#sk-container-id-2 div.sk-parallel-item {display: flex;flex-direction: column;z-index: 1;position: relative;background-color: white;}#sk-container-id-2 div.sk-parallel-item:first-child::after {align-self: flex-end;width: 50%;}#sk-container-id-2 div.sk-parallel-item:last-child::after {align-self: flex-start;width: 50%;}#sk-container-id-2 div.sk-parallel-item:only-child::after {width: 0;}#sk-container-id-2 div.sk-dashed-wrapped {border: 1px dashed gray;margin: 0 0.4em 0.5em 0.4em;box-sizing: border-box;padding-bottom: 0.4em;background-color: white;}#sk-container-id-2 div.sk-label label {font-family: monospace;font-weight: bold;display: inline-block;line-height: 1.2em;}#sk-container-id-2 div.sk-label-container {text-align: center;}#sk-container-id-2 div.sk-container {/* jupyter's `normalize.less` sets `[hidden] { display: none; }` but bootstrap.min.css set `[hidden] { display: none !important; }` so we also need the `!important` here to be able to override the default hidden behavior on the sphinx rendered scikit-learn.org. See: https://github.com/scikit-learn/scikit-learn/issues/21755 */display: inline-block !important;position: relative;}#sk-container-id-2 div.sk-text-repr-fallback {display: none;}</style><div id=\"sk-container-id-2\" class=\"sk-top-container\"><div class=\"sk-text-repr-fallback\"><pre>RandomizedSearchCV(cv=KFold(n_splits=3, random_state=None, shuffle=False),\n",
       "                   estimator=&lt;keras.wrappers.scikit_learn.KerasRegressor object at 0x000001DF614B8BE0&gt;,\n",
       "                   param_distributions={&#x27;act&#x27;: [&#x27;relu&#x27;, &#x27;tanh&#x27;],\n",
       "                                        &#x27;batch_size&#x27;: [16, 32, 64],\n",
       "                                        &#x27;epochs&#x27;: [50, 100],\n",
       "                                        &#x27;lr&#x27;: [0.01, 0.001, 0.0001]})</pre><b>In a Jupyter environment, please rerun this cell to show the HTML representation or trust the notebook. <br />On GitHub, the HTML representation is unable to render, please try loading this page with nbviewer.org.</b></div><div class=\"sk-container\" hidden><div class=\"sk-item sk-dashed-wrapped\"><div class=\"sk-label-container\"><div class=\"sk-label sk-toggleable\"><input class=\"sk-toggleable__control sk-hidden--visually\" id=\"sk-estimator-id-4\" type=\"checkbox\" ><label for=\"sk-estimator-id-4\" class=\"sk-toggleable__label sk-toggleable__label-arrow\">RandomizedSearchCV</label><div class=\"sk-toggleable__content\"><pre>RandomizedSearchCV(cv=KFold(n_splits=3, random_state=None, shuffle=False),\n",
       "                   estimator=&lt;keras.wrappers.scikit_learn.KerasRegressor object at 0x000001DF614B8BE0&gt;,\n",
       "                   param_distributions={&#x27;act&#x27;: [&#x27;relu&#x27;, &#x27;tanh&#x27;],\n",
       "                                        &#x27;batch_size&#x27;: [16, 32, 64],\n",
       "                                        &#x27;epochs&#x27;: [50, 100],\n",
       "                                        &#x27;lr&#x27;: [0.01, 0.001, 0.0001]})</pre></div></div></div><div class=\"sk-parallel\"><div class=\"sk-parallel-item\"><div class=\"sk-item\"><div class=\"sk-label-container\"><div class=\"sk-label sk-toggleable\"><input class=\"sk-toggleable__control sk-hidden--visually\" id=\"sk-estimator-id-5\" type=\"checkbox\" ><label for=\"sk-estimator-id-5\" class=\"sk-toggleable__label sk-toggleable__label-arrow\">estimator: KerasRegressor</label><div class=\"sk-toggleable__content\"><pre>&lt;keras.wrappers.scikit_learn.KerasRegressor object at 0x000001DF614B8BE0&gt;</pre></div></div></div><div class=\"sk-serial\"><div class=\"sk-item\"><div class=\"sk-estimator sk-toggleable\"><input class=\"sk-toggleable__control sk-hidden--visually\" id=\"sk-estimator-id-6\" type=\"checkbox\" ><label for=\"sk-estimator-id-6\" class=\"sk-toggleable__label sk-toggleable__label-arrow\">KerasRegressor</label><div class=\"sk-toggleable__content\"><pre>&lt;keras.wrappers.scikit_learn.KerasRegressor object at 0x000001DF614B8BE0&gt;</pre></div></div></div></div></div></div></div></div></div></div>"
      ],
      "text/plain": [
       "RandomizedSearchCV(cv=KFold(n_splits=3, random_state=None, shuffle=False),\n",
       "                   estimator=<keras.wrappers.scikit_learn.KerasRegressor object at 0x000001DF614B8BE0>,\n",
       "                   param_distributions={'act': ['relu', 'tanh'],\n",
       "                                        'batch_size': [16, 32, 64],\n",
       "                                        'epochs': [50, 100],\n",
       "                                        'lr': [0.01, 0.001, 0.0001]})"
      ]
     },
     "execution_count": 129,
     "metadata": {},
     "output_type": "execute_result"
    }
   ],
   "source": [
    "random_search_results"
   ]
  },
  {
   "cell_type": "code",
   "execution_count": 130,
   "id": "a97ec893",
   "metadata": {},
   "outputs": [
    {
     "name": "stdout",
     "output_type": "stream",
     "text": [
      "Best Score:  -40.481100718180336 and Best Params:  {'lr': 0.01, 'epochs': 100, 'batch_size': 64, 'act': 'tanh'}\n"
     ]
    }
   ],
   "source": [
    "print(\"Best Score: \",\n",
    "      random_search_results.best_score_,\n",
    "      \"and Best Params: \",\n",
    "      random_search_results.best_params_)"
   ]
  },
  {
   "cell_type": "code",
   "execution_count": 131,
   "id": "67acab8f",
   "metadata": {},
   "outputs": [
    {
     "name": "stderr",
     "output_type": "stream",
     "text": [
      "C:\\Users\\HP\\anaconda3\\lib\\site-packages\\keras\\optimizers\\optimizer_v2\\adam.py:110: UserWarning: The `lr` argument is deprecated, use `learning_rate` instead.\n",
      "  super(Adam, self).__init__(name, **kwargs)\n"
     ]
    }
   ],
   "source": [
    "model=create_model(0.01,'tanh')"
   ]
  },
  {
   "cell_type": "code",
   "execution_count": 132,
   "id": "122ce9fc",
   "metadata": {},
   "outputs": [
    {
     "name": "stdout",
     "output_type": "stream",
     "text": [
      "Epoch 1/100\n",
      "494/494 [==============================] - 10s 8ms/step - loss: 853.9304 - mse: 853.9285 - mape: 25.5041\n",
      "Epoch 2/100\n",
      "494/494 [==============================] - 3s 6ms/step - loss: 639.6377 - mse: 639.6359 - mape: 20.2789\n",
      "Epoch 3/100\n",
      "494/494 [==============================] - 4s 8ms/step - loss: 636.6580 - mse: 636.6558 - mape: 20.1139\n",
      "Epoch 4/100\n",
      "494/494 [==============================] - 4s 8ms/step - loss: 492.7952 - mse: 492.7927 - mape: 18.0494\n",
      "Epoch 5/100\n",
      "494/494 [==============================] - 3s 7ms/step - loss: 329.2512 - mse: 329.2489 - mape: 15.4990\n",
      "Epoch 6/100\n",
      "494/494 [==============================] - 4s 8ms/step - loss: 326.9136 - mse: 326.9113 - mape: 15.3235\n",
      "Epoch 7/100\n",
      "494/494 [==============================] - 4s 7ms/step - loss: 324.4286 - mse: 324.4265 - mape: 15.2014\n",
      "Epoch 8/100\n",
      "494/494 [==============================] - 3s 6ms/step - loss: 323.2165 - mse: 323.2143 - mape: 15.0946\n",
      "Epoch 9/100\n",
      "494/494 [==============================] - 2s 5ms/step - loss: 320.5160 - mse: 320.5135 - mape: 14.9196\n",
      "Epoch 10/100\n",
      "494/494 [==============================] - 2s 5ms/step - loss: 320.0176 - mse: 320.0152 - mape: 14.9069\n",
      "Epoch 11/100\n",
      "494/494 [==============================] - 3s 5ms/step - loss: 317.9240 - mse: 317.9217 - mape: 14.8408\n",
      "Epoch 12/100\n",
      "494/494 [==============================] - 2s 5ms/step - loss: 314.4220 - mse: 314.4198 - mape: 14.5568\n",
      "Epoch 13/100\n",
      "494/494 [==============================] - 2s 5ms/step - loss: 314.5952 - mse: 314.5927 - mape: 14.5736\n",
      "Epoch 14/100\n",
      "494/494 [==============================] - 2s 5ms/step - loss: 311.1267 - mse: 311.1247 - mape: 14.3869\n",
      "Epoch 15/100\n",
      "494/494 [==============================] - 3s 6ms/step - loss: 309.2283 - mse: 309.2260 - mape: 14.2434\n",
      "Epoch 16/100\n",
      "494/494 [==============================] - 4s 8ms/step - loss: 306.7773 - mse: 306.7748 - mape: 14.0818\n",
      "Epoch 17/100\n",
      "494/494 [==============================] - 4s 9ms/step - loss: 305.7605 - mse: 305.7579 - mape: 14.0476\n",
      "Epoch 18/100\n",
      "494/494 [==============================] - 3s 6ms/step - loss: 302.5482 - mse: 302.5456 - mape: 13.8259\n",
      "Epoch 19/100\n",
      "494/494 [==============================] - 3s 5ms/step - loss: 301.6883 - mse: 301.6860 - mape: 13.7936\n",
      "Epoch 20/100\n",
      "494/494 [==============================] - 3s 6ms/step - loss: 300.3097 - mse: 300.3071 - mape: 13.6759\n",
      "Epoch 21/100\n",
      "494/494 [==============================] - 3s 6ms/step - loss: 297.1750 - mse: 297.1724 - mape: 13.4181\n",
      "Epoch 22/100\n",
      "494/494 [==============================] - 5s 10ms/step - loss: 297.2323 - mse: 297.2299 - mape: 13.4458\n",
      "Epoch 23/100\n",
      "494/494 [==============================] - 5s 10ms/step - loss: 295.5999 - mse: 295.5977 - mape: 13.3501\n",
      "Epoch 24/100\n",
      "494/494 [==============================] - 4s 9ms/step - loss: 294.0285 - mse: 294.0263 - mape: 13.2171\n",
      "Epoch 25/100\n",
      "494/494 [==============================] - 4s 8ms/step - loss: 290.3756 - mse: 290.3733 - mape: 13.1784\n",
      "Epoch 26/100\n",
      "494/494 [==============================] - 6s 11ms/step - loss: 173.4745 - mse: 173.4720 - mape: 12.6928\n",
      "Epoch 27/100\n",
      "494/494 [==============================] - 3s 6ms/step - loss: 114.6693 - mse: 114.6668 - mape: 11.8307\n",
      "Epoch 28/100\n",
      "494/494 [==============================] - 3s 7ms/step - loss: 98.3389 - mse: 98.3364 - mape: 11.2098\n",
      "Epoch 29/100\n",
      "494/494 [==============================] - 4s 7ms/step - loss: 86.6661 - mse: 86.6636 - mape: 10.6876\n",
      "Epoch 30/100\n",
      "494/494 [==============================] - 5s 9ms/step - loss: 77.7277 - mse: 77.7252 - mape: 10.2888\n",
      "Epoch 31/100\n",
      "494/494 [==============================] - 3s 6ms/step - loss: 69.9695 - mse: 69.9671 - mape: 9.8904\n",
      "Epoch 32/100\n",
      "494/494 [==============================] - 5s 10ms/step - loss: 66.3226 - mse: 66.3203 - mape: 9.6987\n",
      "Epoch 33/100\n",
      "494/494 [==============================] - 3s 6ms/step - loss: 63.6414 - mse: 63.6390 - mape: 9.5678\n",
      "Epoch 34/100\n",
      "494/494 [==============================] - 3s 5ms/step - loss: 60.8378 - mse: 60.8353 - mape: 9.3239\n",
      "Epoch 35/100\n",
      "494/494 [==============================] - 3s 5ms/step - loss: 59.7998 - mse: 59.7973 - mape: 9.3427\n",
      "Epoch 36/100\n",
      "494/494 [==============================] - 3s 5ms/step - loss: 57.0603 - mse: 57.0579 - mape: 9.1396\n",
      "Epoch 37/100\n",
      "494/494 [==============================] - 3s 6ms/step - loss: 56.6917 - mse: 56.6893 - mape: 9.1336\n",
      "Epoch 38/100\n",
      "494/494 [==============================] - 3s 7ms/step - loss: 56.9154 - mse: 56.9130 - mape: 9.1711\n",
      "Epoch 39/100\n",
      "494/494 [==============================] - 3s 7ms/step - loss: 56.3944 - mse: 56.3920 - mape: 9.1099\n",
      "Epoch 40/100\n",
      "494/494 [==============================] - 3s 6ms/step - loss: 55.6536 - mse: 55.6511 - mape: 9.0719\n",
      "Epoch 41/100\n",
      "494/494 [==============================] - 3s 6ms/step - loss: 55.4649 - mse: 55.4625 - mape: 9.0306\n",
      "Epoch 42/100\n",
      "494/494 [==============================] - 3s 6ms/step - loss: 55.4923 - mse: 55.4898 - mape: 9.0494\n",
      "Epoch 43/100\n",
      "494/494 [==============================] - 3s 5ms/step - loss: 55.2312 - mse: 55.2287 - mape: 9.0102\n",
      "Epoch 44/100\n",
      "494/494 [==============================] - 3s 5ms/step - loss: 54.6378 - mse: 54.6354 - mape: 8.9558\n",
      "Epoch 45/100\n",
      "494/494 [==============================] - 3s 5ms/step - loss: 54.2334 - mse: 54.2310 - mape: 8.9114\n",
      "Epoch 46/100\n",
      "494/494 [==============================] - 3s 6ms/step - loss: 55.1340 - mse: 55.1315 - mape: 8.9909\n",
      "Epoch 47/100\n",
      "494/494 [==============================] - 3s 6ms/step - loss: 54.8698 - mse: 54.8673 - mape: 8.9690\n",
      "Epoch 48/100\n",
      "494/494 [==============================] - 3s 5ms/step - loss: 54.0814 - mse: 54.0790 - mape: 8.9167\n",
      "Epoch 49/100\n",
      "494/494 [==============================] - 3s 6ms/step - loss: 54.1851 - mse: 54.1827 - mape: 8.9717\n",
      "Epoch 50/100\n",
      "494/494 [==============================] - 3s 5ms/step - loss: 53.8654 - mse: 53.8629 - mape: 8.8820\n",
      "Epoch 51/100\n",
      "494/494 [==============================] - 3s 5ms/step - loss: 53.6569 - mse: 53.6544 - mape: 8.8864\n",
      "Epoch 52/100\n",
      "494/494 [==============================] - 3s 6ms/step - loss: 53.7865 - mse: 53.7840 - mape: 8.8860\n",
      "Epoch 53/100\n",
      "494/494 [==============================] - 3s 6ms/step - loss: 53.4388 - mse: 53.4363 - mape: 8.8773\n",
      "Epoch 54/100\n",
      "494/494 [==============================] - 3s 5ms/step - loss: 53.1531 - mse: 53.1506 - mape: 8.8427\n",
      "Epoch 55/100\n",
      "494/494 [==============================] - 3s 5ms/step - loss: 53.3372 - mse: 53.3348 - mape: 8.8545\n",
      "Epoch 56/100\n",
      "494/494 [==============================] - 3s 5ms/step - loss: 52.9523 - mse: 52.9498 - mape: 8.8247\n",
      "Epoch 57/100\n",
      "494/494 [==============================] - 3s 5ms/step - loss: 53.2478 - mse: 53.2454 - mape: 8.8536\n",
      "Epoch 58/100\n",
      "494/494 [==============================] - 3s 5ms/step - loss: 52.2587 - mse: 52.2563 - mape: 8.7383\n",
      "Epoch 59/100\n",
      "494/494 [==============================] - 3s 5ms/step - loss: 52.9215 - mse: 52.9191 - mape: 8.8302\n",
      "Epoch 60/100\n",
      "494/494 [==============================] - 3s 5ms/step - loss: 52.4517 - mse: 52.4493 - mape: 8.7563\n",
      "Epoch 61/100\n",
      "494/494 [==============================] - 3s 6ms/step - loss: 52.9446 - mse: 52.9421 - mape: 8.8398\n",
      "Epoch 62/100\n",
      "494/494 [==============================] - 3s 5ms/step - loss: 52.2847 - mse: 52.2822 - mape: 8.7426\n",
      "Epoch 63/100\n",
      "494/494 [==============================] - 3s 6ms/step - loss: 52.6083 - mse: 52.6059 - mape: 8.7960\n",
      "Epoch 64/100\n",
      "494/494 [==============================] - 3s 5ms/step - loss: 52.2066 - mse: 52.2041 - mape: 8.7567\n",
      "Epoch 65/100\n",
      "494/494 [==============================] - 3s 5ms/step - loss: 52.7358 - mse: 52.7333 - mape: 8.7867\n",
      "Epoch 66/100\n",
      "494/494 [==============================] - 3s 5ms/step - loss: 52.2871 - mse: 52.2846 - mape: 8.7613\n",
      "Epoch 67/100\n",
      "494/494 [==============================] - 3s 5ms/step - loss: 52.4993 - mse: 52.4968 - mape: 8.8136\n",
      "Epoch 68/100\n",
      "494/494 [==============================] - 3s 5ms/step - loss: 52.2099 - mse: 52.2074 - mape: 8.7588\n",
      "Epoch 69/100\n",
      "494/494 [==============================] - 3s 5ms/step - loss: 52.0131 - mse: 52.0106 - mape: 8.7277\n",
      "Epoch 70/100\n",
      "494/494 [==============================] - 3s 5ms/step - loss: 52.1653 - mse: 52.1628 - mape: 8.7255\n",
      "Epoch 71/100\n",
      "494/494 [==============================] - 3s 5ms/step - loss: 52.2910 - mse: 52.2886 - mape: 8.7689\n",
      "Epoch 72/100\n"
     ]
    },
    {
     "name": "stdout",
     "output_type": "stream",
     "text": [
      "494/494 [==============================] - 3s 5ms/step - loss: 52.3142 - mse: 52.3116 - mape: 8.7441\n",
      "Epoch 73/100\n",
      "494/494 [==============================] - 3s 5ms/step - loss: 52.0100 - mse: 52.0075 - mape: 8.7230\n",
      "Epoch 74/100\n",
      "494/494 [==============================] - 3s 7ms/step - loss: 52.3491 - mse: 52.3466 - mape: 8.7591\n",
      "Epoch 75/100\n",
      "494/494 [==============================] - 3s 6ms/step - loss: 51.7348 - mse: 51.7323 - mape: 8.7026\n",
      "Epoch 76/100\n",
      "494/494 [==============================] - 3s 5ms/step - loss: 51.8002 - mse: 51.7977 - mape: 8.7419\n",
      "Epoch 77/100\n",
      "494/494 [==============================] - 3s 5ms/step - loss: 51.7001 - mse: 51.6976 - mape: 8.6832\n",
      "Epoch 78/100\n",
      "494/494 [==============================] - 3s 6ms/step - loss: 51.8688 - mse: 51.8663 - mape: 8.7178\n",
      "Epoch 79/100\n",
      "494/494 [==============================] - 3s 6ms/step - loss: 51.5969 - mse: 51.5944 - mape: 8.6866\n",
      "Epoch 80/100\n",
      "494/494 [==============================] - 3s 5ms/step - loss: 51.3734 - mse: 51.3709 - mape: 8.6627\n",
      "Epoch 81/100\n",
      "494/494 [==============================] - 3s 5ms/step - loss: 51.7812 - mse: 51.7788 - mape: 8.7124\n",
      "Epoch 82/100\n",
      "494/494 [==============================] - 3s 5ms/step - loss: 51.5125 - mse: 51.5100 - mape: 8.6793\n",
      "Epoch 83/100\n",
      "494/494 [==============================] - 3s 5ms/step - loss: 52.2078 - mse: 52.2053 - mape: 8.7635\n",
      "Epoch 84/100\n",
      "494/494 [==============================] - 3s 6ms/step - loss: 51.4986 - mse: 51.4961 - mape: 8.7027\n",
      "Epoch 85/100\n",
      "494/494 [==============================] - 3s 7ms/step - loss: 51.5144 - mse: 51.5119 - mape: 8.7167\n",
      "Epoch 86/100\n",
      "494/494 [==============================] - 3s 5ms/step - loss: 51.3703 - mse: 51.3678 - mape: 8.6745\n",
      "Epoch 87/100\n",
      "494/494 [==============================] - 3s 5ms/step - loss: 50.9942 - mse: 50.9917 - mape: 8.6390\n",
      "Epoch 88/100\n",
      "494/494 [==============================] - 3s 5ms/step - loss: 51.7359 - mse: 51.7334 - mape: 8.6866\n",
      "Epoch 89/100\n",
      "494/494 [==============================] - 3s 6ms/step - loss: 50.8521 - mse: 50.8496 - mape: 8.6494\n",
      "Epoch 90/100\n",
      "494/494 [==============================] - 3s 6ms/step - loss: 51.5926 - mse: 51.5901 - mape: 8.7080\n",
      "Epoch 91/100\n",
      "494/494 [==============================] - 3s 6ms/step - loss: 51.5734 - mse: 51.5709 - mape: 8.7121\n",
      "Epoch 92/100\n",
      "494/494 [==============================] - 3s 6ms/step - loss: 51.6208 - mse: 51.6183 - mape: 8.7109\n",
      "Epoch 93/100\n",
      "494/494 [==============================] - 4s 7ms/step - loss: 51.0479 - mse: 51.0454 - mape: 8.6413\n",
      "Epoch 94/100\n",
      "494/494 [==============================] - 3s 7ms/step - loss: 51.3997 - mse: 51.3972 - mape: 8.6605\n",
      "Epoch 95/100\n",
      "494/494 [==============================] - 4s 7ms/step - loss: 51.3471 - mse: 51.3446 - mape: 8.6704\n",
      "Epoch 96/100\n",
      "494/494 [==============================] - 4s 8ms/step - loss: 51.6251 - mse: 51.6226 - mape: 8.7005\n",
      "Epoch 97/100\n",
      "494/494 [==============================] - 3s 6ms/step - loss: 51.2268 - mse: 51.2243 - mape: 8.6642\n",
      "Epoch 98/100\n",
      "494/494 [==============================] - 3s 5ms/step - loss: 51.3211 - mse: 51.3186 - mape: 8.6779\n",
      "Epoch 99/100\n",
      "494/494 [==============================] - 3s 6ms/step - loss: 50.8794 - mse: 50.8769 - mape: 8.6353\n",
      "Epoch 100/100\n",
      "494/494 [==============================] - 3s 6ms/step - loss: 51.2097 - mse: 51.2072 - mape: 8.6606\n"
     ]
    },
    {
     "data": {
      "text/plain": [
       "<keras.callbacks.History at 0x1df649201c0>"
      ]
     },
     "execution_count": 132,
     "metadata": {},
     "output_type": "execute_result"
    }
   ],
   "source": [
    "model.fit(X_train,Y_train,epochs=100,batch_size=64)"
   ]
  },
  {
   "cell_type": "code",
   "execution_count": 133,
   "id": "639d96ce",
   "metadata": {},
   "outputs": [
    {
     "name": "stdout",
     "output_type": "stream",
     "text": [
      "247/247 [==============================] - 2s 4ms/step - loss: 41.0572 - mse: 41.0548 - mape: 7.7154\n"
     ]
    },
    {
     "data": {
      "text/plain": [
       "[41.057247161865234, 41.05475616455078, 7.715404033660889]"
      ]
     },
     "execution_count": 133,
     "metadata": {},
     "output_type": "execute_result"
    }
   ],
   "source": [
    "model.evaluate(X_test,Y_test)"
   ]
  },
  {
   "cell_type": "code",
   "execution_count": 112,
   "id": "4c7f00fc",
   "metadata": {},
   "outputs": [],
   "source": [
    "model2=create_model(0.05,'tanh')"
   ]
  },
  {
   "cell_type": "code",
   "execution_count": 113,
   "id": "380523d1",
   "metadata": {},
   "outputs": [
    {
     "name": "stdout",
     "output_type": "stream",
     "text": [
      "Epoch 1/20\n",
      "988/988 [==============================] - 4s 3ms/step - loss: 795.3751 - mse: 795.3729 - mape: 24.8754\n",
      "Epoch 2/20\n",
      "988/988 [==============================] - 3s 3ms/step - loss: 705.8552 - mse: 705.8524 - mape: 22.5107\n",
      "Epoch 3/20\n",
      "988/988 [==============================] - 3s 3ms/step - loss: 579.0768 - mse: 579.0742 - mape: 20.3439\n",
      "Epoch 4/20\n",
      "988/988 [==============================] - 3s 3ms/step - loss: 323.0572 - mse: 323.0546 - mape: 15.3864\n",
      "Epoch 5/20\n",
      "988/988 [==============================] - 3s 3ms/step - loss: 146.8455 - mse: 146.8429 - mape: 12.7656\n",
      "Epoch 6/20\n",
      "988/988 [==============================] - 2s 2ms/step - loss: 84.4090 - mse: 84.4065 - mape: 11.4899\n",
      "Epoch 7/20\n",
      "988/988 [==============================] - 3s 3ms/step - loss: 84.6623 - mse: 84.6597 - mape: 11.5735\n",
      "Epoch 8/20\n",
      "988/988 [==============================] - 3s 3ms/step - loss: 83.1732 - mse: 83.1707 - mape: 11.4373\n",
      "Epoch 9/20\n",
      "988/988 [==============================] - 3s 3ms/step - loss: 82.6668 - mse: 82.6644 - mape: 11.3994\n",
      "Epoch 10/20\n",
      "988/988 [==============================] - 3s 3ms/step - loss: 80.7331 - mse: 80.7305 - mape: 11.2152\n",
      "Epoch 11/20\n",
      "988/988 [==============================] - 3s 3ms/step - loss: 81.6360 - mse: 81.6335 - mape: 11.2773\n",
      "Epoch 12/20\n",
      "988/988 [==============================] - 3s 3ms/step - loss: 80.2224 - mse: 80.2198 - mape: 11.1653\n",
      "Epoch 13/20\n",
      "988/988 [==============================] - 3s 3ms/step - loss: 81.1885 - mse: 81.1860 - mape: 11.2270\n",
      "Epoch 14/20\n",
      "988/988 [==============================] - 3s 3ms/step - loss: 80.3337 - mse: 80.3313 - mape: 11.1696\n",
      "Epoch 15/20\n",
      "988/988 [==============================] - 3s 3ms/step - loss: 80.8699 - mse: 80.8674 - mape: 11.2203\n",
      "Epoch 16/20\n",
      "988/988 [==============================] - 3s 3ms/step - loss: 82.0433 - mse: 82.0408 - mape: 11.3397\n",
      "Epoch 17/20\n",
      "988/988 [==============================] - 3s 3ms/step - loss: 80.9993 - mse: 80.9968 - mape: 11.2585\n",
      "Epoch 18/20\n",
      "988/988 [==============================] - 3s 3ms/step - loss: 79.6193 - mse: 79.6168 - mape: 11.1507\n",
      "Epoch 19/20\n",
      "988/988 [==============================] - 3s 3ms/step - loss: 80.9823 - mse: 80.9797 - mape: 11.2489\n",
      "Epoch 20/20\n",
      "988/988 [==============================] - 3s 3ms/step - loss: 80.1870 - mse: 80.1845 - mape: 11.1510\n"
     ]
    },
    {
     "data": {
      "text/plain": [
       "<keras.callbacks.History at 0x1df4ce19280>"
      ]
     },
     "execution_count": 113,
     "metadata": {},
     "output_type": "execute_result"
    }
   ],
   "source": [
    "model2.fit(X_train,Y_train,epochs=20)"
   ]
  },
  {
   "cell_type": "code",
   "execution_count": null,
   "id": "3c53f04e",
   "metadata": {},
   "outputs": [],
   "source": []
  }
 ],
 "metadata": {
  "kernelspec": {
   "display_name": "Python 3 (ipykernel)",
   "language": "python",
   "name": "python3"
  },
  "language_info": {
   "codemirror_mode": {
    "name": "ipython",
    "version": 3
   },
   "file_extension": ".py",
   "mimetype": "text/x-python",
   "name": "python",
   "nbconvert_exporter": "python",
   "pygments_lexer": "ipython3",
   "version": "3.8.5"
  }
 },
 "nbformat": 4,
 "nbformat_minor": 5
}
