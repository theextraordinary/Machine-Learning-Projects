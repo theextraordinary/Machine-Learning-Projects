{
 "cells": [
  {
   "cell_type": "code",
   "execution_count": 1,
   "id": "81bad4a1",
   "metadata": {},
   "outputs": [],
   "source": [
    "import numpy as np\n",
    "import pandas as pd\n",
    "import matplotlib.pyplot as plt\n",
    "import seaborn as sb"
   ]
  },
  {
   "cell_type": "code",
   "execution_count": 2,
   "id": "a34a9a86",
   "metadata": {},
   "outputs": [
    {
     "name": "stderr",
     "output_type": "stream",
     "text": [
      "C:\\Users\\HP\\AppData\\Local\\Temp\\ipykernel_10172\\4171409585.py:1: DtypeWarning: Columns (8) have mixed types. Specify dtype option on import or set low_memory=False.\n",
      "  data=pd.read_csv('train.csv')\n"
     ]
    }
   ],
   "source": [
    "data=pd.read_csv('train.csv')"
   ]
  },
  {
   "cell_type": "code",
   "execution_count": 3,
   "id": "70e600a7",
   "metadata": {},
   "outputs": [
    {
     "data": {
      "text/html": [
       "<div>\n",
       "<style scoped>\n",
       "    .dataframe tbody tr th:only-of-type {\n",
       "        vertical-align: middle;\n",
       "    }\n",
       "\n",
       "    .dataframe tbody tr th {\n",
       "        vertical-align: top;\n",
       "    }\n",
       "\n",
       "    .dataframe thead th {\n",
       "        text-align: right;\n",
       "    }\n",
       "</style>\n",
       "<table border=\"1\" class=\"dataframe\">\n",
       "  <thead>\n",
       "    <tr style=\"text-align: right;\">\n",
       "      <th></th>\n",
       "      <th>Date received</th>\n",
       "      <th>Product</th>\n",
       "      <th>Issue</th>\n",
       "      <th>Sub-issue</th>\n",
       "      <th>Consumer complaint narrative</th>\n",
       "      <th>Company public response</th>\n",
       "      <th>Company</th>\n",
       "      <th>State</th>\n",
       "      <th>ZIP code</th>\n",
       "      <th>Tags</th>\n",
       "      <th>Consumer consent provided?</th>\n",
       "      <th>Submitted via</th>\n",
       "      <th>Date sent to company</th>\n",
       "      <th>Company response to consumer</th>\n",
       "      <th>Timely response?</th>\n",
       "      <th>Consumer disputed?</th>\n",
       "      <th>Complaint ID</th>\n",
       "    </tr>\n",
       "  </thead>\n",
       "  <tbody>\n",
       "    <tr>\n",
       "      <th>0</th>\n",
       "      <td>2016-10-03</td>\n",
       "      <td>Credit reporting</td>\n",
       "      <td>Incorrect information on credit report</td>\n",
       "      <td>Account terms</td>\n",
       "      <td>NaN</td>\n",
       "      <td>NaN</td>\n",
       "      <td>EQUIFAX, INC.</td>\n",
       "      <td>AZ</td>\n",
       "      <td>85249.0</td>\n",
       "      <td>NaN</td>\n",
       "      <td>Consent not provided</td>\n",
       "      <td>Web</td>\n",
       "      <td>2016-10-03</td>\n",
       "      <td>Closed with explanation</td>\n",
       "      <td>Yes</td>\n",
       "      <td>No</td>\n",
       "      <td>5990371</td>\n",
       "    </tr>\n",
       "    <tr>\n",
       "      <th>1</th>\n",
       "      <td>2020-02-27</td>\n",
       "      <td>Personal consumer reports</td>\n",
       "      <td>Incorrect information on your report</td>\n",
       "      <td>Information belongs to someone else</td>\n",
       "      <td>NaN</td>\n",
       "      <td>NaN</td>\n",
       "      <td>EQUIFAX, INC.</td>\n",
       "      <td>GA</td>\n",
       "      <td>30043.0</td>\n",
       "      <td>NaN</td>\n",
       "      <td>Consent withdrawn</td>\n",
       "      <td>Web</td>\n",
       "      <td>2020-02-27</td>\n",
       "      <td>Closed with explanation</td>\n",
       "      <td>Yes</td>\n",
       "      <td>NaN</td>\n",
       "      <td>3562966</td>\n",
       "    </tr>\n",
       "    <tr>\n",
       "      <th>2</th>\n",
       "      <td>2021-11-04</td>\n",
       "      <td>Mortgage</td>\n",
       "      <td>Struggling to pay mortgage</td>\n",
       "      <td>NaN</td>\n",
       "      <td>Himy name is XXXX XXXX. I have been married fo...</td>\n",
       "      <td>Company believes it acted appropriately as aut...</td>\n",
       "      <td>SELECT PORTFOLIO SERVICING, INC.</td>\n",
       "      <td>FL</td>\n",
       "      <td>34240.0</td>\n",
       "      <td>NaN</td>\n",
       "      <td>Consent provided</td>\n",
       "      <td>Web</td>\n",
       "      <td>2021-11-04</td>\n",
       "      <td>Closed with explanation</td>\n",
       "      <td>Yes</td>\n",
       "      <td>NaN</td>\n",
       "      <td>1657007</td>\n",
       "    </tr>\n",
       "    <tr>\n",
       "      <th>3</th>\n",
       "      <td>2022-03-16</td>\n",
       "      <td>Debt collection</td>\n",
       "      <td>False statements or representation</td>\n",
       "      <td>Attempted to collect wrong amount</td>\n",
       "      <td>Hello! \\n\\nXXXX XXXX has been trying to collec...</td>\n",
       "      <td>NaN</td>\n",
       "      <td>Patient Accounting Service Center</td>\n",
       "      <td>FL</td>\n",
       "      <td>32207</td>\n",
       "      <td>NaN</td>\n",
       "      <td>Consent provided</td>\n",
       "      <td>Web</td>\n",
       "      <td>2022-03-16</td>\n",
       "      <td>Closed with explanation</td>\n",
       "      <td>Yes</td>\n",
       "      <td>NaN</td>\n",
       "      <td>5069898</td>\n",
       "    </tr>\n",
       "    <tr>\n",
       "      <th>4</th>\n",
       "      <td>2022-06-27</td>\n",
       "      <td>Personal consumer reports</td>\n",
       "      <td>Improper use of your report</td>\n",
       "      <td>Reporting company used your report improperly</td>\n",
       "      <td>XXXX accordance with the Fair Credit Reporting...</td>\n",
       "      <td>Company has responded to the consumer and the ...</td>\n",
       "      <td>Experian Information Solutions Inc.</td>\n",
       "      <td>MO</td>\n",
       "      <td>63123.0</td>\n",
       "      <td>NaN</td>\n",
       "      <td>Consent provided</td>\n",
       "      <td>Web</td>\n",
       "      <td>2022-06-27</td>\n",
       "      <td>Closed with non-monetary relief</td>\n",
       "      <td>Yes</td>\n",
       "      <td>NaN</td>\n",
       "      <td>2891849</td>\n",
       "    </tr>\n",
       "    <tr>\n",
       "      <th>...</th>\n",
       "      <td>...</td>\n",
       "      <td>...</td>\n",
       "      <td>...</td>\n",
       "      <td>...</td>\n",
       "      <td>...</td>\n",
       "      <td>...</td>\n",
       "      <td>...</td>\n",
       "      <td>...</td>\n",
       "      <td>...</td>\n",
       "      <td>...</td>\n",
       "      <td>...</td>\n",
       "      <td>...</td>\n",
       "      <td>...</td>\n",
       "      <td>...</td>\n",
       "      <td>...</td>\n",
       "      <td>...</td>\n",
       "      <td>...</td>\n",
       "    </tr>\n",
       "    <tr>\n",
       "      <th>2684448</th>\n",
       "      <td>2022-07-21</td>\n",
       "      <td>Credit card</td>\n",
       "      <td>Problem with a purchase shown on your statement</td>\n",
       "      <td>Credit card company isn't resolving a dispute ...</td>\n",
       "      <td>There was a fraud charge made mid to end of XX...</td>\n",
       "      <td>NaN</td>\n",
       "      <td>Bread Financial Holdings, Inc.</td>\n",
       "      <td>CA</td>\n",
       "      <td>93065.0</td>\n",
       "      <td>NaN</td>\n",
       "      <td>Consent provided</td>\n",
       "      <td>Web</td>\n",
       "      <td>2022-07-21</td>\n",
       "      <td>Closed with monetary relief</td>\n",
       "      <td>Yes</td>\n",
       "      <td>NaN</td>\n",
       "      <td>933621</td>\n",
       "    </tr>\n",
       "    <tr>\n",
       "      <th>2684449</th>\n",
       "      <td>2013-03-07</td>\n",
       "      <td>Mortgage</td>\n",
       "      <td>Credit decision / Underwriting</td>\n",
       "      <td>NaN</td>\n",
       "      <td>NaN</td>\n",
       "      <td>NaN</td>\n",
       "      <td>Ocwen Financial Corporation</td>\n",
       "      <td>CA</td>\n",
       "      <td>93940.0</td>\n",
       "      <td>NaN</td>\n",
       "      <td>NaN</td>\n",
       "      <td>Web</td>\n",
       "      <td>2013-03-08</td>\n",
       "      <td>Closed with explanation</td>\n",
       "      <td>Yes</td>\n",
       "      <td>No</td>\n",
       "      <td>2707816</td>\n",
       "    </tr>\n",
       "    <tr>\n",
       "      <th>2684450</th>\n",
       "      <td>2014-10-15</td>\n",
       "      <td>Debt collection</td>\n",
       "      <td>Disclosure verification of debt</td>\n",
       "      <td>Not given enough info to verify debt</td>\n",
       "      <td>NaN</td>\n",
       "      <td>NaN</td>\n",
       "      <td>URS Holding, LLC</td>\n",
       "      <td>WI</td>\n",
       "      <td>53092.0</td>\n",
       "      <td>NaN</td>\n",
       "      <td>NaN</td>\n",
       "      <td>Referral</td>\n",
       "      <td>2014-10-21</td>\n",
       "      <td>Closed with explanation</td>\n",
       "      <td>Yes</td>\n",
       "      <td>No</td>\n",
       "      <td>2950693</td>\n",
       "    </tr>\n",
       "    <tr>\n",
       "      <th>2684451</th>\n",
       "      <td>2014-07-28</td>\n",
       "      <td>Mortgage</td>\n",
       "      <td>Loan servicing, payments, escrow account</td>\n",
       "      <td>NaN</td>\n",
       "      <td>NaN</td>\n",
       "      <td>NaN</td>\n",
       "      <td>Caliber Home Loans, Inc.</td>\n",
       "      <td>NJ</td>\n",
       "      <td>7064.0</td>\n",
       "      <td>NaN</td>\n",
       "      <td>NaN</td>\n",
       "      <td>Web</td>\n",
       "      <td>2014-07-28</td>\n",
       "      <td>Closed with explanation</td>\n",
       "      <td>Yes</td>\n",
       "      <td>No</td>\n",
       "      <td>1618139</td>\n",
       "    </tr>\n",
       "    <tr>\n",
       "      <th>2684452</th>\n",
       "      <td>2021-07-26</td>\n",
       "      <td>Personal consumer reports</td>\n",
       "      <td>Incorrect information on your report</td>\n",
       "      <td>Information belongs to someone else</td>\n",
       "      <td>NaN</td>\n",
       "      <td>NaN</td>\n",
       "      <td>EQUIFAX, INC.</td>\n",
       "      <td>FL</td>\n",
       "      <td>34786.0</td>\n",
       "      <td>NaN</td>\n",
       "      <td>Other</td>\n",
       "      <td>Web</td>\n",
       "      <td>2021-07-26</td>\n",
       "      <td>Closed with explanation</td>\n",
       "      <td>Yes</td>\n",
       "      <td>NaN</td>\n",
       "      <td>5040599</td>\n",
       "    </tr>\n",
       "  </tbody>\n",
       "</table>\n",
       "<p>2684453 rows × 17 columns</p>\n",
       "</div>"
      ],
      "text/plain": [
       "        Date received                    Product  \\\n",
       "0          2016-10-03           Credit reporting   \n",
       "1          2020-02-27  Personal consumer reports   \n",
       "2          2021-11-04                   Mortgage   \n",
       "3          2022-03-16            Debt collection   \n",
       "4          2022-06-27  Personal consumer reports   \n",
       "...               ...                        ...   \n",
       "2684448    2022-07-21                Credit card   \n",
       "2684449    2013-03-07                   Mortgage   \n",
       "2684450    2014-10-15            Debt collection   \n",
       "2684451    2014-07-28                   Mortgage   \n",
       "2684452    2021-07-26  Personal consumer reports   \n",
       "\n",
       "                                                   Issue  \\\n",
       "0                 Incorrect information on credit report   \n",
       "1                   Incorrect information on your report   \n",
       "2                             Struggling to pay mortgage   \n",
       "3                     False statements or representation   \n",
       "4                            Improper use of your report   \n",
       "...                                                  ...   \n",
       "2684448  Problem with a purchase shown on your statement   \n",
       "2684449                   Credit decision / Underwriting   \n",
       "2684450                  Disclosure verification of debt   \n",
       "2684451         Loan servicing, payments, escrow account   \n",
       "2684452             Incorrect information on your report   \n",
       "\n",
       "                                                 Sub-issue  \\\n",
       "0                                            Account terms   \n",
       "1                      Information belongs to someone else   \n",
       "2                                                      NaN   \n",
       "3                        Attempted to collect wrong amount   \n",
       "4            Reporting company used your report improperly   \n",
       "...                                                    ...   \n",
       "2684448  Credit card company isn't resolving a dispute ...   \n",
       "2684449                                                NaN   \n",
       "2684450               Not given enough info to verify debt   \n",
       "2684451                                                NaN   \n",
       "2684452                Information belongs to someone else   \n",
       "\n",
       "                              Consumer complaint narrative  \\\n",
       "0                                                      NaN   \n",
       "1                                                      NaN   \n",
       "2        Himy name is XXXX XXXX. I have been married fo...   \n",
       "3        Hello! \\n\\nXXXX XXXX has been trying to collec...   \n",
       "4        XXXX accordance with the Fair Credit Reporting...   \n",
       "...                                                    ...   \n",
       "2684448  There was a fraud charge made mid to end of XX...   \n",
       "2684449                                                NaN   \n",
       "2684450                                                NaN   \n",
       "2684451                                                NaN   \n",
       "2684452                                                NaN   \n",
       "\n",
       "                                   Company public response  \\\n",
       "0                                                      NaN   \n",
       "1                                                      NaN   \n",
       "2        Company believes it acted appropriately as aut...   \n",
       "3                                                      NaN   \n",
       "4        Company has responded to the consumer and the ...   \n",
       "...                                                    ...   \n",
       "2684448                                                NaN   \n",
       "2684449                                                NaN   \n",
       "2684450                                                NaN   \n",
       "2684451                                                NaN   \n",
       "2684452                                                NaN   \n",
       "\n",
       "                                     Company State ZIP code Tags  \\\n",
       "0                              EQUIFAX, INC.    AZ  85249.0  NaN   \n",
       "1                              EQUIFAX, INC.    GA  30043.0  NaN   \n",
       "2           SELECT PORTFOLIO SERVICING, INC.    FL  34240.0  NaN   \n",
       "3          Patient Accounting Service Center    FL    32207  NaN   \n",
       "4        Experian Information Solutions Inc.    MO  63123.0  NaN   \n",
       "...                                      ...   ...      ...  ...   \n",
       "2684448       Bread Financial Holdings, Inc.    CA  93065.0  NaN   \n",
       "2684449          Ocwen Financial Corporation    CA  93940.0  NaN   \n",
       "2684450                     URS Holding, LLC    WI  53092.0  NaN   \n",
       "2684451             Caliber Home Loans, Inc.    NJ   7064.0  NaN   \n",
       "2684452                        EQUIFAX, INC.    FL  34786.0  NaN   \n",
       "\n",
       "        Consumer consent provided? Submitted via Date sent to company  \\\n",
       "0             Consent not provided           Web           2016-10-03   \n",
       "1                Consent withdrawn           Web           2020-02-27   \n",
       "2                 Consent provided           Web           2021-11-04   \n",
       "3                 Consent provided           Web           2022-03-16   \n",
       "4                 Consent provided           Web           2022-06-27   \n",
       "...                            ...           ...                  ...   \n",
       "2684448           Consent provided           Web           2022-07-21   \n",
       "2684449                        NaN           Web           2013-03-08   \n",
       "2684450                        NaN      Referral           2014-10-21   \n",
       "2684451                        NaN           Web           2014-07-28   \n",
       "2684452                      Other           Web           2021-07-26   \n",
       "\n",
       "            Company response to consumer Timely response? Consumer disputed?  \\\n",
       "0                Closed with explanation              Yes                 No   \n",
       "1                Closed with explanation              Yes                NaN   \n",
       "2                Closed with explanation              Yes                NaN   \n",
       "3                Closed with explanation              Yes                NaN   \n",
       "4        Closed with non-monetary relief              Yes                NaN   \n",
       "...                                  ...              ...                ...   \n",
       "2684448      Closed with monetary relief              Yes                NaN   \n",
       "2684449          Closed with explanation              Yes                 No   \n",
       "2684450          Closed with explanation              Yes                 No   \n",
       "2684451          Closed with explanation              Yes                 No   \n",
       "2684452          Closed with explanation              Yes                NaN   \n",
       "\n",
       "         Complaint ID  \n",
       "0             5990371  \n",
       "1             3562966  \n",
       "2             1657007  \n",
       "3             5069898  \n",
       "4             2891849  \n",
       "...               ...  \n",
       "2684448        933621  \n",
       "2684449       2707816  \n",
       "2684450       2950693  \n",
       "2684451       1618139  \n",
       "2684452       5040599  \n",
       "\n",
       "[2684453 rows x 17 columns]"
      ]
     },
     "execution_count": 3,
     "metadata": {},
     "output_type": "execute_result"
    }
   ],
   "source": [
    "data"
   ]
  },
  {
   "cell_type": "code",
   "execution_count": 4,
   "id": "b1b002c0",
   "metadata": {},
   "outputs": [
    {
     "name": "stdout",
     "output_type": "stream",
     "text": [
      "<class 'pandas.core.frame.DataFrame'>\n",
      "RangeIndex: 2684453 entries, 0 to 2684452\n",
      "Data columns (total 17 columns):\n",
      " #   Column                        Dtype \n",
      "---  ------                        ----- \n",
      " 0   Date received                 object\n",
      " 1   Product                       object\n",
      " 2   Issue                         object\n",
      " 3   Sub-issue                     object\n",
      " 4   Consumer complaint narrative  object\n",
      " 5   Company public response       object\n",
      " 6   Company                       object\n",
      " 7   State                         object\n",
      " 8   ZIP code                      object\n",
      " 9   Tags                          object\n",
      " 10  Consumer consent provided?    object\n",
      " 11  Submitted via                 object\n",
      " 12  Date sent to company          object\n",
      " 13  Company response to consumer  object\n",
      " 14  Timely response?              object\n",
      " 15  Consumer disputed?            object\n",
      " 16  Complaint ID                  int64 \n",
      "dtypes: int64(1), object(16)\n",
      "memory usage: 348.2+ MB\n"
     ]
    }
   ],
   "source": [
    "data.info()"
   ]
  },
  {
   "cell_type": "code",
   "execution_count": 5,
   "id": "8c81ae0d",
   "metadata": {},
   "outputs": [
    {
     "name": "stdout",
     "output_type": "stream",
     "text": [
      "<class 'pandas.core.series.Series'>\n",
      "RangeIndex: 2684453 entries, 0 to 2684452\n",
      "Series name: Date received\n",
      "Non-Null Count    Dtype \n",
      "--------------    ----- \n",
      "2684453 non-null  object\n",
      "dtypes: object(1)\n",
      "memory usage: 20.5+ MB\n"
     ]
    }
   ],
   "source": [
    "data['Date received'].info()"
   ]
  },
  {
   "cell_type": "code",
   "execution_count": 6,
   "id": "ea7fc7b1",
   "metadata": {},
   "outputs": [
    {
     "data": {
      "text/plain": [
       "2022-05-03    3276\n",
       "2017-09-08    3206\n",
       "2022-04-19    3198\n",
       "2022-05-04    3190\n",
       "2022-04-27    3108\n",
       "              ... \n",
       "2011-12-24      11\n",
       "2011-12-25       9\n",
       "2017-04-22       9\n",
       "2014-03-09       5\n",
       "2022-05-07       4\n",
       "Name: Date received, Length: 3964, dtype: int64"
      ]
     },
     "execution_count": 6,
     "metadata": {},
     "output_type": "execute_result"
    }
   ],
   "source": [
    "data['Date received'].value_counts()"
   ]
  },
  {
   "cell_type": "code",
   "execution_count": 7,
   "id": "188c91f7",
   "metadata": {},
   "outputs": [],
   "source": [
    "data['Date received']=pd.to_datetime(data['Date received'])"
   ]
  },
  {
   "cell_type": "code",
   "execution_count": 12,
   "id": "c5caf558",
   "metadata": {},
   "outputs": [
    {
     "name": "stdout",
     "output_type": "stream",
     "text": [
      "<class 'pandas.core.frame.DataFrame'>\n",
      "RangeIndex: 2684453 entries, 0 to 2684452\n",
      "Data columns (total 17 columns):\n",
      " #   Column                        Dtype         \n",
      "---  ------                        -----         \n",
      " 0   Date received                 datetime64[ns]\n",
      " 1   Product                       object        \n",
      " 2   Issue                         object        \n",
      " 3   Sub-issue                     object        \n",
      " 4   Consumer complaint narrative  object        \n",
      " 5   Company public response       object        \n",
      " 6   Company                       object        \n",
      " 7   State                         object        \n",
      " 8   ZIP code                      object        \n",
      " 9   Tags                          object        \n",
      " 10  Consumer consent provided?    object        \n",
      " 11  Submitted via                 object        \n",
      " 12  Date sent to company          object        \n",
      " 13  Company response to consumer  object        \n",
      " 14  Timely response?              object        \n",
      " 15  Consumer disputed?            object        \n",
      " 16  Complaint ID                  int64         \n",
      "dtypes: datetime64[ns](1), int64(1), object(15)\n",
      "memory usage: 348.2+ MB\n"
     ]
    }
   ],
   "source": [
    "data.info()"
   ]
  },
  {
   "cell_type": "code",
   "execution_count": 22,
   "id": "44e6b8d6",
   "metadata": {},
   "outputs": [],
   "source": [
    "data['Date received']=pd.to_numeric(data['Date received']).astype('int')/pow(10,7)"
   ]
  },
  {
   "cell_type": "code",
   "execution_count": 23,
   "id": "31a73b5b",
   "metadata": {},
   "outputs": [
    {
     "name": "stdout",
     "output_type": "stream",
     "text": [
      "<class 'pandas.core.frame.DataFrame'>\n",
      "RangeIndex: 2684453 entries, 0 to 2684452\n",
      "Data columns (total 17 columns):\n",
      " #   Column                        Dtype  \n",
      "---  ------                        -----  \n",
      " 0   Date received                 float64\n",
      " 1   Product                       object \n",
      " 2   Issue                         object \n",
      " 3   Sub-issue                     object \n",
      " 4   Consumer complaint narrative  object \n",
      " 5   Company public response       object \n",
      " 6   Company                       object \n",
      " 7   State                         object \n",
      " 8   ZIP code                      object \n",
      " 9   Tags                          object \n",
      " 10  Consumer consent provided?    object \n",
      " 11  Submitted via                 object \n",
      " 12  Date sent to company          object \n",
      " 13  Company response to consumer  object \n",
      " 14  Timely response?              object \n",
      " 15  Consumer disputed?            object \n",
      " 16  Complaint ID                  int64  \n",
      "dtypes: float64(1), int64(1), object(15)\n",
      "memory usage: 348.2+ MB\n"
     ]
    }
   ],
   "source": [
    "data.info()"
   ]
  },
  {
   "cell_type": "code",
   "execution_count": 24,
   "id": "79223de3",
   "metadata": {},
   "outputs": [
    {
     "data": {
      "text/plain": [
       "Personal consumer reports      1204235\n",
       "Debt collection                 401213\n",
       "Mortgage                        326434\n",
       "Credit card                     152059\n",
       "Credit reporting                126611\n",
       "Checking or savings account     123222\n",
       "Bank account or service          77669\n",
       "Prepaid card                     75319\n",
       "Student loan                     62796\n",
       "Money service                    41275\n",
       "Vehicle loan or lease            32368\n",
       "Consumer Loan                    28463\n",
       "Personal loan                    21964\n",
       "Payday loan                       5015\n",
       "Money transfers                   4829\n",
       "Other financial service            964\n",
       "Virtual currency                    17\n",
       "Name: Product, dtype: int64"
      ]
     },
     "execution_count": 24,
     "metadata": {},
     "output_type": "execute_result"
    }
   ],
   "source": [
    "data['Product'].value_counts()"
   ]
  },
  {
   "cell_type": "code",
   "execution_count": 25,
   "id": "37f07d21",
   "metadata": {},
   "outputs": [],
   "source": [
    "from sklearn.preprocessing import LabelEncoder\n",
    "data['Product']=LabelEncoder().fit_transform(data['Product'])"
   ]
  },
  {
   "cell_type": "code",
   "execution_count": 27,
   "id": "b6617c6f",
   "metadata": {},
   "outputs": [
    {
     "data": {
      "text/plain": [
       "False    2684453\n",
       "Name: Product, dtype: int64"
      ]
     },
     "execution_count": 27,
     "metadata": {},
     "output_type": "execute_result"
    }
   ],
   "source": [
    "data['Product'].isna().value_counts()"
   ]
  },
  {
   "cell_type": "code",
   "execution_count": 28,
   "id": "1b6c9ebe",
   "metadata": {},
   "outputs": [
    {
     "name": "stdout",
     "output_type": "stream",
     "text": [
      "<class 'pandas.core.frame.DataFrame'>\n",
      "RangeIndex: 2684453 entries, 0 to 2684452\n",
      "Data columns (total 17 columns):\n",
      " #   Column                        Dtype  \n",
      "---  ------                        -----  \n",
      " 0   Date received                 float64\n",
      " 1   Product                       int32  \n",
      " 2   Issue                         object \n",
      " 3   Sub-issue                     object \n",
      " 4   Consumer complaint narrative  object \n",
      " 5   Company public response       object \n",
      " 6   Company                       object \n",
      " 7   State                         object \n",
      " 8   ZIP code                      object \n",
      " 9   Tags                          object \n",
      " 10  Consumer consent provided?    object \n",
      " 11  Submitted via                 object \n",
      " 12  Date sent to company          object \n",
      " 13  Company response to consumer  object \n",
      " 14  Timely response?              object \n",
      " 15  Consumer disputed?            object \n",
      " 16  Complaint ID                  int64  \n",
      "dtypes: float64(1), int32(1), int64(1), object(14)\n",
      "memory usage: 337.9+ MB\n"
     ]
    }
   ],
   "source": [
    "data.info()"
   ]
  },
  {
   "cell_type": "code",
   "execution_count": 30,
   "id": "9b02c77f",
   "metadata": {},
   "outputs": [
    {
     "data": {
      "text/plain": [
       "count                                  2684453\n",
       "unique                                     165\n",
       "top       Incorrect information on your report\n",
       "freq                                    655550\n",
       "Name: Issue, dtype: object"
      ]
     },
     "execution_count": 30,
     "metadata": {},
     "output_type": "execute_result"
    }
   ],
   "source": [
    "data['Issue'].describe()"
   ]
  },
  {
   "cell_type": "code",
   "execution_count": 31,
   "id": "133e2356",
   "metadata": {},
   "outputs": [],
   "source": [
    "data['Issue']=LabelEncoder().fit_transform(data['Issue'])"
   ]
  },
  {
   "cell_type": "code",
   "execution_count": 32,
   "id": "79e2cf53",
   "metadata": {},
   "outputs": [
    {
     "data": {
      "text/plain": [
       "False    2074445\n",
       "True      610008\n",
       "Name: Sub-issue, dtype: int64"
      ]
     },
     "execution_count": 32,
     "metadata": {},
     "output_type": "execute_result"
    }
   ],
   "source": [
    "data['Sub-issue'].isna().value_counts()"
   ]
  },
  {
   "cell_type": "code",
   "execution_count": 33,
   "id": "05662547",
   "metadata": {},
   "outputs": [
    {
     "data": {
      "text/plain": [
       "count                                 2074445\n",
       "unique                                    221\n",
       "top       Information belongs to someone else\n",
       "freq                                   419577\n",
       "Name: Sub-issue, dtype: object"
      ]
     },
     "execution_count": 33,
     "metadata": {},
     "output_type": "execute_result"
    }
   ],
   "source": [
    "data['Sub-issue'].describe()"
   ]
  },
  {
   "cell_type": "code",
   "execution_count": 38,
   "id": "39f4b1bb",
   "metadata": {},
   "outputs": [
    {
     "data": {
      "text/plain": [
       "75     655550\n",
       "114    325473\n",
       "72     202774\n",
       "13     134270\n",
       "82     101047\n",
       "        ...  \n",
       "130         8\n",
       "79          7\n",
       "129         6\n",
       "81          5\n",
       "78          3\n",
       "Name: Issue, Length: 165, dtype: int64"
      ]
     },
     "execution_count": 38,
     "metadata": {},
     "output_type": "execute_result"
    }
   ],
   "source": [
    "data['Issue'].value_counts()"
   ]
  },
  {
   "cell_type": "code",
   "execution_count": 40,
   "id": "bf6aedbd",
   "metadata": {},
   "outputs": [],
   "source": [
    "data['Sub-issue']=LabelEncoder().fit_transform(data['Sub-issue'])"
   ]
  },
  {
   "cell_type": "code",
   "execution_count": 42,
   "id": "829cf2f3",
   "metadata": {},
   "outputs": [
    {
     "data": {
      "text/plain": [
       "<AxesSubplot:xlabel='Issue', ylabel='Sub-issue'>"
      ]
     },
     "execution_count": 42,
     "metadata": {},
     "output_type": "execute_result"
    },
    {
     "name": "stderr",
     "output_type": "stream",
     "text": [
      "C:\\Users\\HP\\anaconda3\\lib\\site-packages\\IPython\\core\\pylabtools.py:151: UserWarning: Creating legend with loc=\"best\" can be slow with large amounts of data.\n",
      "  fig.canvas.print_figure(bytes_io, **kw)\n"
     ]
    },
    {
     "data": {
      "image/png": "[encoded data removed]",
      "text/plain": [
       "<Figure size 432x288 with 1 Axes>"
      ]
     },
     "metadata": {
      "needs_background": "light"
     },
     "output_type": "display_data"
    }
   ],
   "source": [
    "sb.scatterplot(data=data,x='Issue',y='Sub-issue',hue='Consumer disputed?')"
   ]
  },
  {
   "cell_type": "code",
   "execution_count": 55,
   "id": "fcf96f1c",
   "metadata": {},
   "outputs": [
    {
     "data": {
      "text/plain": [
       "221    610008\n",
       "95     419577\n",
       "193    171786\n",
       "181    121572\n",
       "54      79109\n",
       "        ...  \n",
       "100         6\n",
       "218         4\n",
       "146         3\n",
       "55          1\n",
       "89          1\n",
       "Name: Sub-issue, Length: 222, dtype: int64"
      ]
     },
     "execution_count": 55,
     "metadata": {},
     "output_type": "execute_result"
    }
   ],
   "source": [
    "data['Sub-issue'].value_counts()"
   ]
  },
  {
   "cell_type": "code",
   "execution_count": 56,
   "id": "9da6a446",
   "metadata": {},
   "outputs": [],
   "source": [
    "data['Sub-issue'].fillna(data['Sub-issue'].mode()[0],inplace=True)"
   ]
  },
  {
   "cell_type": "code",
   "execution_count": 57,
   "id": "065233c2",
   "metadata": {},
   "outputs": [
    {
     "data": {
      "text/plain": [
       "False    2684453\n",
       "Name: Sub-issue, dtype: int64"
      ]
     },
     "execution_count": 57,
     "metadata": {},
     "output_type": "execute_result"
    }
   ],
   "source": [
    "data['Sub-issue'].isna().value_counts()"
   ]
  },
  {
   "cell_type": "code",
   "execution_count": 58,
   "id": "47cfea46",
   "metadata": {},
   "outputs": [
    {
     "name": "stdout",
     "output_type": "stream",
     "text": [
      "<class 'pandas.core.frame.DataFrame'>\n",
      "RangeIndex: 2684453 entries, 0 to 2684452\n",
      "Data columns (total 17 columns):\n",
      " #   Column                        Dtype  \n",
      "---  ------                        -----  \n",
      " 0   Date received                 float64\n",
      " 1   Product                       int32  \n",
      " 2   Issue                         int32  \n",
      " 3   Sub-issue                     int32  \n",
      " 4   Consumer complaint narrative  object \n",
      " 5   Company public response       object \n",
      " 6   Company                       object \n",
      " 7   State                         object \n",
      " 8   ZIP code                      object \n",
      " 9   Tags                          object \n",
      " 10  Consumer consent provided?    object \n",
      " 11  Submitted via                 object \n",
      " 12  Date sent to company          object \n",
      " 13  Company response to consumer  object \n",
      " 14  Timely response?              object \n",
      " 15  Consumer disputed?            object \n",
      " 16  Complaint ID                  int64  \n",
      "dtypes: float64(1), int32(3), int64(1), object(12)\n",
      "memory usage: 317.5+ MB\n"
     ]
    }
   ],
   "source": [
    "data.info()"
   ]
  },
  {
   "cell_type": "code",
   "execution_count": 60,
   "id": "f1532930",
   "metadata": {},
   "outputs": [
    {
     "data": {
      "text/plain": [
       "True     1722487\n",
       "False     961966\n",
       "Name: Consumer complaint narrative, dtype: int64"
      ]
     },
     "execution_count": 60,
     "metadata": {},
     "output_type": "execute_result"
    }
   ],
   "source": [
    "data['Consumer complaint narrative'].isna().value_counts()"
   ]
  },
  {
   "cell_type": "code",
   "execution_count": 61,
   "id": "726fc948",
   "metadata": {},
   "outputs": [],
   "source": [
    "data['Consumer complaint narrative'].fillna(method='ffill',inplace=True)"
   ]
  },
  {
   "cell_type": "code",
   "execution_count": 62,
   "id": "adf8bdf4",
   "metadata": {},
   "outputs": [
    {
     "data": {
      "text/plain": [
       "False    2684451\n",
       "True           2\n",
       "Name: Consumer complaint narrative, dtype: int64"
      ]
     },
     "execution_count": 62,
     "metadata": {},
     "output_type": "execute_result"
    }
   ],
   "source": [
    "data['Consumer complaint narrative'].isna().value_counts()"
   ]
  },
  {
   "cell_type": "code",
   "execution_count": 63,
   "id": "766dadda",
   "metadata": {},
   "outputs": [],
   "source": [
    "data['Consumer complaint narrative'].fillna(method='bfill',inplace=True)"
   ]
  },
  {
   "cell_type": "code",
   "execution_count": 64,
   "id": "eac9535e",
   "metadata": {},
   "outputs": [
    {
     "data": {
      "text/plain": [
       "False    2684453\n",
       "Name: Consumer complaint narrative, dtype: int64"
      ]
     },
     "execution_count": 64,
     "metadata": {},
     "output_type": "execute_result"
    }
   ],
   "source": [
    "data['Consumer complaint narrative'].isna().value_counts()"
   ]
  },
  {
   "cell_type": "code",
   "execution_count": 66,
   "id": "625e1c7f",
   "metadata": {},
   "outputs": [],
   "source": [
    "import re\n",
    "new_text=[]\n",
    "for sent in data['Consumer complaint narrative']:\n",
    "    temp_str=re.sub(r\"http\\S+\",\" \",sent)\n",
    "    temp_str=re.sub(r\"www\\S+\",\" \",temp_str)\n",
    "    new_text.append(temp_str)"
   ]
  },
  {
   "cell_type": "code",
   "execution_count": 68,
   "id": "8e640423",
   "metadata": {},
   "outputs": [
    {
     "data": {
      "text/plain": [
       "2684453"
      ]
     },
     "execution_count": 68,
     "metadata": {},
     "output_type": "execute_result"
    }
   ],
   "source": [
    "len(new_text)"
   ]
  },
  {
   "cell_type": "code",
   "execution_count": 71,
   "id": "6af39ae5",
   "metadata": {},
   "outputs": [
    {
     "name": "stderr",
     "output_type": "stream",
     "text": [
      "[nltk_data] Downloading package stopwords to\n",
      "[nltk_data]     C:\\Users\\HP\\AppData\\Roaming\\nltk_data...\n",
      "[nltk_data]   Unzipping corpora\\stopwords.zip.\n"
     ]
    }
   ],
   "source": [
    "import nltk\n",
    "import re\n",
    "nltk.download('stopwords')\n",
    "from nltk.corpus import stopwords\n",
    "from nltk.stem import SnowballStemmer\n",
    "from nltk.stem.wordnet import WordNetLemmatizer\n",
    "\n",
    "stop=set(stopwords.words('english'))\n",
    "sno_stem=SnowballStemmer('english')\n",
    "# print(stop)\n",
    "# print(sno_stem.stem('happy'))\n",
    "\n",
    "def cleanhtml(sentence):\n",
    "    patt=re.compile('<.*?>')\n",
    "    clean=re.sub(patt,' ',sentence)\n",
    "    return clean\n",
    "def decontracted(phrase):\n",
    "    # specific\n",
    "    phrase = re.sub(r\"won't\", \"will not\", phrase)\n",
    "    phrase = re.sub(r\"can\\'t\", \"can not\", phrase)\n",
    "\n",
    "    # general\n",
    "    phrase = re.sub(r\"n\\'t\", \" not\", phrase)\n",
    "    phrase = re.sub(r\"\\'re\", \" are\", phrase)\n",
    "    phrase = re.sub(r\"\\'s\", \" is\", phrase)\n",
    "    phrase = re.sub(r\"\\'d\", \" would\", phrase)\n",
    "    phrase = re.sub(r\"\\'ll\", \" will\", phrase)\n",
    "    phrase = re.sub(r\"\\'t\", \" not\", phrase)\n",
    "    phrase = re.sub(r\"\\'ve\", \" have\", phrase)\n",
    "    phrase = re.sub(r\"\\'m\", \" am\", phrase)\n",
    "    return phrase\n",
    "def cleanpunc(sentence):\n",
    "    clean=re.sub(r'[^A-Za-z0-9]+',' ',sentence)\n",
    "    return clean\n",
    "def cleanalphanum(sentence):\n",
    "    clean=re.sub(\"\\S*\\d\\S*\", \"\", sentence).strip()\n",
    "    return clean\n",
    "\n",
    "\n",
    "def preprocess(sentences):\n",
    "    i=0\n",
    "    prepro_reviews=[]\n",
    "    for sent in sentences.values:\n",
    "        sent=cleanhtml(sent)\n",
    "        sent=cleanpunc(sent)\n",
    "        sent=cleanalphanum(sent)\n",
    "        sent=decontracted(sent)\n",
    "        words=[]\n",
    "        for word in sent.split(\" \"):\n",
    "            if word not in stop:\n",
    "                s=sno_stem.stem(word.lower()).encode('utf8')\n",
    "                words.append(s)\n",
    "        sent=b\" \".join(words)\n",
    "        prepro_reviews.append(sent)\n",
    "        i+=1\n",
    "    #print(prepro_reviews)\n",
    "    return prepro_reviews"
   ]
  },
  {
   "cell_type": "code",
   "execution_count": 72,
   "id": "046f8e3a",
   "metadata": {},
   "outputs": [],
   "source": [
    "def preprocess2(sentences):\n",
    "    prepro_reviews=preprocess(sentences)\n",
    "    list_of_sentence=[]\n",
    "    for sentence in prepro_reviews:\n",
    "        list_of_sentence.append(sentence.decode().split())\n",
    "    # for sent in list_of_sentence:\n",
    "    #     for word in sent:\n",
    "    #print(list_of_sentence)\n",
    "    return list_of_sentence"
   ]
  },
  {
   "cell_type": "code",
   "execution_count": null,
   "id": "ea68b22e",
   "metadata": {},
   "outputs": [],
   "source": [
    "sentences=pd.Series(new_text)\n",
    "prepro_text=preprocess2(sentences)"
   ]
  },
  {
   "cell_type": "code",
   "execution_count": null,
   "id": "5b443d4a",
   "metadata": {},
   "outputs": [],
   "source": [
    "prepro_text[0]"
   ]
  },
  {
   "cell_type": "code",
   "execution_count": null,
   "id": "d16a6c6e",
   "metadata": {},
   "outputs": [],
   "source": []
  }
 ],
 "metadata": {
  "kernelspec": {
   "display_name": "Python 3 (ipykernel)",
   "language": "python",
   "name": "python3"
  },
  "language_info": {
   "codemirror_mode": {
    "name": "ipython",
    "version": 3
   },
   "file_extension": ".py",
   "mimetype": "text/x-python",
   "name": "python",
   "nbconvert_exporter": "python",
   "pygments_lexer": "ipython3",
   "version": "3.8.5"
  }
 },
 "nbformat": 4,
 "nbformat_minor": 5
}
